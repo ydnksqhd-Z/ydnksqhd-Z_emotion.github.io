{
 "cells": [
  {
   "cell_type": "code",
   "execution_count": 13,
   "metadata": {},
   "outputs": [],
   "source": [
    "from sparkai.llm.llm import ChatSparkLLM, ChunkPrintHandler\n",
    "from sparkai.core.messages import ChatMessage"
   ]
  },
  {
   "cell_type": "code",
   "execution_count": 14,
   "metadata": {},
   "outputs": [],
   "source": [
    "#星火认知大模型Spark Max的URL值，其他版本大模型URL值请前往文档（https://www.xfyun.cn/doc/spark/Web.html）查看\n",
    "SPARKAI_URL = 'wss://spark-api.xf-yun.com/v3.5/chat'\n",
    "#星火认知大模型调用秘钥信息，请前往讯飞开放平台控制台（https://console.xfyun.cn/services/bm35）查看\n",
    "SPARKAI_APP_ID = '72cf37b5'\n",
    "SPARKAI_API_SECRET = 'NTI4MmVjMDRlZTk5ZjIxMGUxNjhjYWY0'\n",
    "SPARKAI_API_KEY = '851fbce2b48a1ccbb09ec76ba2a80258'\n",
    "#星火认知大模型Spark Max的domain值，其他版本大模型domain值请前往文档（https://www.xfyun.cn/doc/spark/Web.html）查看\n",
    "SPARKAI_DOMAIN = 'generalv3.5'"
   ]
  },
  {
   "cell_type": "code",
   "execution_count": 15,
   "metadata": {},
   "outputs": [
    {
     "name": "stdout",
     "output_type": "stream",
     "text": [
      "你好！有什么我可以帮助你的吗？\n"
     ]
    }
   ],
   "source": [
    "spark = ChatSparkLLM(\n",
    "    spark_api_url=SPARKAI_URL,\n",
    "    spark_app_id=SPARKAI_APP_ID,\n",
    "    spark_api_key=SPARKAI_API_KEY,\n",
    "    spark_api_secret=SPARKAI_API_SECRET,\n",
    "    spark_llm_domain=SPARKAI_DOMAIN,\n",
    "    streaming=False,\n",
    ")\n",
    "messages = [ChatMessage(\n",
    "    role=\"user\",\n",
    "    content='你好呀'\n",
    ")]\n",
    "handler = ChunkPrintHandler()\n",
    "a = spark.generate([messages], callbacks=[handler])\n",
    "print(a.generations[0][0].text)"
   ]
  }
 ],
 "metadata": {
  "kernelspec": {
   "display_name": ".venv",
   "language": "python",
   "name": "python3"
  },
  "language_info": {
   "codemirror_mode": {
    "name": "ipython",
    "version": 3
   },
   "file_extension": ".py",
   "mimetype": "text/x-python",
   "name": "python",
   "nbconvert_exporter": "python",
   "pygments_lexer": "ipython3",
   "version": "3.10.14"
  }
 },
 "nbformat": 4,
 "nbformat_minor": 2
}
