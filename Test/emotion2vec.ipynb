{
 "cells": [
  {
   "cell_type": "code",
   "execution_count": 1,
   "metadata": {},
   "outputs": [
    {
     "name": "stderr",
     "output_type": "stream",
     "text": [
      "2024-06-28 09:15:30,076 - modelscope - INFO - PyTorch version 2.3.1 Found.\n",
      "2024-06-28 09:15:30,078 - modelscope - INFO - Loading ast index from /home/codespace/.cache/modelscope/ast_indexer\n",
      "2024-06-28 09:15:30,137 - modelscope - INFO - Loading done! Current index file version is 1.15.0, with md5 ec2b2f4a04f792a60db0641be71426d0 and a total number of 980 components indexed\n"
     ]
    },
    {
     "name": "stdout",
     "output_type": "stream",
     "text": [
      "transformer is not installed, please install it if you want to use related modules\n"
     ]
    },
    {
     "name": "stderr",
     "output_type": "stream",
     "text": [
      "2024-06-28 09:15:33,093 - modelscope - WARNING - Model revision not specified, use revision: v2.0.4\n",
      "2024-06-28 09:15:33,332 - modelscope - INFO - initiate model from /home/codespace/.cache/modelscope/hub/iic/emotion2vec_base_finetuned\n",
      "2024-06-28 09:15:33,333 - modelscope - INFO - initiate model from location /home/codespace/.cache/modelscope/hub/iic/emotion2vec_base_finetuned.\n",
      "2024-06-28 09:15:33,335 - modelscope - INFO - initialize model from /home/codespace/.cache/modelscope/hub/iic/emotion2vec_base_finetuned\n"
     ]
    },
    {
     "name": "stdout",
     "output_type": "stream",
     "text": [
      "Notice: ffmpeg is not installed. torchaudio is used to load audio\n",
      "If you want to use ffmpeg backend to load audio, please install it by:\n",
      "\tsudo apt install ffmpeg # ubuntu\n",
      "\t# brew install ffmpeg # mac\n"
     ]
    },
    {
     "name": "stderr",
     "output_type": "stream",
     "text": [
      "2024-06-28 09:15:46,052 - modelscope - WARNING - No preprocessor field found in cfg.\n",
      "2024-06-28 09:15:46,052 - modelscope - WARNING - No val key and type key found in preprocessor domain of configuration.json file.\n",
      "2024-06-28 09:15:46,053 - modelscope - WARNING - Cannot find available config to build preprocessor at mode inference, current config: {'model_dir': '/home/codespace/.cache/modelscope/hub/iic/emotion2vec_base_finetuned'}. trying to build by task and model information.\n",
      "2024-06-28 09:15:46,054 - modelscope - WARNING - No preprocessor key ('funasr', 'emotion-recognition') found in PREPROCESSOR_MAP, skip building preprocessor.\n",
      "2024-06-28 09:15:46,057 - modelscope - INFO - cuda is not available, using cpu instead.\n"
     ]
    },
    {
     "name": "stdout",
     "output_type": "stream",
     "text": [
      "Warning, miss key in ckpt: modality_encoders.AUDIO.decoder.blocks.0.0.weight, /home/codespace/.cache/modelscope/hub/iic/emotion2vec_base_finetuned/emotion2vec_base.pt\n",
      "Warning, miss key in ckpt: modality_encoders.AUDIO.decoder.blocks.0.0.bias, /home/codespace/.cache/modelscope/hub/iic/emotion2vec_base_finetuned/emotion2vec_base.pt\n",
      "Warning, miss key in ckpt: modality_encoders.AUDIO.decoder.blocks.1.0.weight, /home/codespace/.cache/modelscope/hub/iic/emotion2vec_base_finetuned/emotion2vec_base.pt\n",
      "Warning, miss key in ckpt: modality_encoders.AUDIO.decoder.blocks.1.0.bias, /home/codespace/.cache/modelscope/hub/iic/emotion2vec_base_finetuned/emotion2vec_base.pt\n",
      "Warning, miss key in ckpt: modality_encoders.AUDIO.decoder.blocks.2.0.weight, /home/codespace/.cache/modelscope/hub/iic/emotion2vec_base_finetuned/emotion2vec_base.pt\n",
      "Warning, miss key in ckpt: modality_encoders.AUDIO.decoder.blocks.2.0.bias, /home/codespace/.cache/modelscope/hub/iic/emotion2vec_base_finetuned/emotion2vec_base.pt\n",
      "Warning, miss key in ckpt: modality_encoders.AUDIO.decoder.blocks.3.0.weight, /home/codespace/.cache/modelscope/hub/iic/emotion2vec_base_finetuned/emotion2vec_base.pt\n",
      "Warning, miss key in ckpt: modality_encoders.AUDIO.decoder.blocks.3.0.bias, /home/codespace/.cache/modelscope/hub/iic/emotion2vec_base_finetuned/emotion2vec_base.pt\n",
      "Warning, miss key in ckpt: modality_encoders.AUDIO.decoder.proj.weight, /home/codespace/.cache/modelscope/hub/iic/emotion2vec_base_finetuned/emotion2vec_base.pt\n",
      "Warning, miss key in ckpt: modality_encoders.AUDIO.decoder.proj.bias, /home/codespace/.cache/modelscope/hub/iic/emotion2vec_base_finetuned/emotion2vec_base.pt\n"
     ]
    },
    {
     "name": "stderr",
     "output_type": "stream",
     "text": [
      "rtf_avg: 0.214: 100%|\u001b[34m██████████\u001b[0m| 1/1 [00:01<00:00,  1.19s/it]                                                                                      \n"
     ]
    }
   ],
   "source": [
    "from modelscope.pipelines import pipeline\n",
    "from modelscope.utils.constant import Tasks\n",
    "\n",
    "inference_pipeline = pipeline(\n",
    "    task=Tasks.emotion_recognition,\n",
    "    model=\"iic/emotion2vec_base_finetuned\")\n",
    "\n",
    "rec_result = inference_pipeline('https://isv-data.oss-cn-hangzhou.aliyuncs.com/ics/MaaS/ASR/test_audio/asr_example_zh.wav', granularity=\"utterance\", extract_embedding=False)\n",
    "# print(rec_result)"
   ]
  },
  {
   "cell_type": "code",
   "execution_count": 2,
   "metadata": {},
   "outputs": [
    {
     "name": "stdout",
     "output_type": "stream",
     "text": [
      "       生气/angry  厌恶/disgusted    恐惧/fearful      开心/happy  中立/neutral  \\\n",
      "0  1.223913e-15  1.990139e-17  1.779402e-18  7.486544e-15         1.0   \n",
      "\n",
      "       其他/other        难过/sad  吃惊/surprised         <unk>  \n",
      "0  2.093778e-18  3.173283e-14  5.799244e-17  2.042407e-18  \n",
      "中立/neutral\n"
     ]
    }
   ],
   "source": [
    "# print(rec_result[0]['labels'])\n",
    "# print(rec_result[0]['scores'])\n",
    "\n",
    "import pandas as pd\n",
    "\n",
    "dic = dict(zip(rec_result[0]['labels'], rec_result[0]['scores']))\n",
    "df = pd.DataFrame([dic])\n",
    "\n",
    "print(df.head())\n",
    "\n",
    "ans = df.idxmax(axis=1)[0]\n",
    "\n",
    "print(ans)\n"
   ]
  }
 ],
 "metadata": {
  "kernelspec": {
   "display_name": ".venv",
   "language": "python",
   "name": "python3"
  },
  "language_info": {
   "codemirror_mode": {
    "name": "ipython",
    "version": 3
   },
   "file_extension": ".py",
   "mimetype": "text/x-python",
   "name": "python",
   "nbconvert_exporter": "python",
   "pygments_lexer": "ipython3",
   "version": "3.10.13"
  }
 },
 "nbformat": 4,
 "nbformat_minor": 2
}
